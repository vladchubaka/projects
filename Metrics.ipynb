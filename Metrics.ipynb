{
 "cells": [
  {
   "cell_type": "markdown",
   "id": "e8c20aa2",
   "metadata": {},
   "source": [
    "В игре Plants & Gardens каждый месяц проводятся тематические события, ограниченные по времени. В них игроки могут получить уникальные предметы для сада и персонажей, дополнительные монеты или бонусы. Для получения награды требуется пройти ряд уровней за определенное время. С помощью каких метрик можно оценить результаты последнего прошедшего события?\n",
    "\n",
    "Предположим, в другом событии мы усложнили механику событий так, что при каждой неудачной попытке выполнения уровня игрок будет откатываться на несколько уровней назад. Изменится ли набор метрик оценки результата? Если да, то как?"
   ]
  },
  {
   "cell_type": "markdown",
   "id": "b07b2056",
   "metadata": {},
   "source": [
    "1. DAU - посмотрели бы как меняется количество ежедневных активных пользователей\n",
    "   Retention и Rolling retention - посмотрим на возвращаемость игроков на фоне специальных событий\n",
    "   Длина сессии - посмоторим как отличается время, проведенное в игре пользователем на фоне спецпредложения \n",
    "   Средняя продолжительность сессии - оценим сколько в среднем времени тратят пользователи на игру\n",
    "   Sticky Factor - фактор прилипчивости\n",
    "   Количество заходов в игру в день - посмотри, как часто игроки возвращаются ради спецпредложения\n",
    "   "
   ]
  },
  {
   "cell_type": "markdown",
   "id": "a947f363",
   "metadata": {},
   "source": [
    "2. Добавим к нашему набору:\n",
    "   Churn Rate - как много пользователей ушло из игры из-за возросшей сложности\n",
    "   "
   ]
  },
  {
   "cell_type": "markdown",
   "id": "9a08609c",
   "metadata": {},
   "source": []
  },
  {
   "cell_type": "markdown",
   "id": "3877c01f",
   "metadata": {},
   "source": []
  },
  {
   "cell_type": "markdown",
   "id": "a5155a0b",
   "metadata": {},
   "source": []
  },
  {
   "cell_type": "markdown",
   "id": "58909bb9",
   "metadata": {},
   "source": []
  },
  {
   "cell_type": "markdown",
   "id": "41508734",
   "metadata": {},
   "source": []
  },
  {
   "cell_type": "markdown",
   "id": "11d293f3",
   "metadata": {},
   "source": []
  },
  {
   "cell_type": "markdown",
   "id": "e41684e4",
   "metadata": {},
   "source": []
  },
  {
   "cell_type": "markdown",
   "id": "c90bdcd6",
   "metadata": {},
   "source": []
  },
  {
   "cell_type": "markdown",
   "id": "6128fc41",
   "metadata": {},
   "source": []
  },
  {
   "cell_type": "markdown",
   "id": "5d3a20b2",
   "metadata": {},
   "source": []
  }
 ],
 "metadata": {
  "kernelspec": {
   "display_name": "Python 3 (ipykernel)",
   "language": "python",
   "name": "python3"
  },
  "language_info": {
   "codemirror_mode": {
    "name": "ipython",
    "version": 3
   },
   "file_extension": ".py",
   "mimetype": "text/x-python",
   "name": "python",
   "nbconvert_exporter": "python",
   "pygments_lexer": "ipython3",
   "version": "3.9.7"
  }
 },
 "nbformat": 4,
 "nbformat_minor": 5
}
