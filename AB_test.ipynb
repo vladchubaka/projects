{
 "cells": [
  {
   "cell_type": "markdown",
   "id": "cc694a4c",
   "metadata": {},
   "source": [
    "Имеются результаты A/B теста, в котором двум группам пользователей предлагались различные наборы акционных предложений. Известно, что ARPU в тестовой группе выше на 5%, чем в контрольной. При этом в контрольной группе 1928 игроков из 202103 оказались платящими, а в тестовой – 1805 из 202667.\n",
    "\n",
    "Какой набор предложений можно считать лучшим? Какие метрики стоит проанализировать для принятия правильного решения и как?"
   ]
  },
  {
   "cell_type": "code",
   "execution_count": 54,
   "id": "dd072928",
   "metadata": {},
   "outputs": [],
   "source": [
    "# импортируем библиотеки\n",
    "import pandas as pd\n",
    "import numpy as np\n",
    "import scipy.stats as stats\n",
    "import matplotlib as plt\n",
    "import seaborn as sns\n",
    "from scipy.stats import chisquare"
   ]
  },
  {
   "cell_type": "code",
   "execution_count": 55,
   "id": "c68f231f",
   "metadata": {},
   "outputs": [],
   "source": [
    "df = pd.read_csv('C:/Users/Влад Чубенко/Downloads/Проект_1_Задание_2.csv', sep = ';') # читаем файл"
   ]
  },
  {
   "cell_type": "code",
   "execution_count": 56,
   "id": "e3490220",
   "metadata": {},
   "outputs": [
    {
     "data": {
      "text/html": [
       "<div>\n",
       "<style scoped>\n",
       "    .dataframe tbody tr th:only-of-type {\n",
       "        vertical-align: middle;\n",
       "    }\n",
       "\n",
       "    .dataframe tbody tr th {\n",
       "        vertical-align: top;\n",
       "    }\n",
       "\n",
       "    .dataframe thead th {\n",
       "        text-align: right;\n",
       "    }\n",
       "</style>\n",
       "<table border=\"1\" class=\"dataframe\">\n",
       "  <thead>\n",
       "    <tr style=\"text-align: right;\">\n",
       "      <th></th>\n",
       "      <th>user_id</th>\n",
       "      <th>revenue</th>\n",
       "      <th>testgroup</th>\n",
       "    </tr>\n",
       "  </thead>\n",
       "  <tbody>\n",
       "    <tr>\n",
       "      <th>0</th>\n",
       "      <td>1</td>\n",
       "      <td>0</td>\n",
       "      <td>b</td>\n",
       "    </tr>\n",
       "    <tr>\n",
       "      <th>1</th>\n",
       "      <td>2</td>\n",
       "      <td>0</td>\n",
       "      <td>a</td>\n",
       "    </tr>\n",
       "    <tr>\n",
       "      <th>2</th>\n",
       "      <td>3</td>\n",
       "      <td>0</td>\n",
       "      <td>a</td>\n",
       "    </tr>\n",
       "    <tr>\n",
       "      <th>3</th>\n",
       "      <td>4</td>\n",
       "      <td>0</td>\n",
       "      <td>b</td>\n",
       "    </tr>\n",
       "    <tr>\n",
       "      <th>4</th>\n",
       "      <td>5</td>\n",
       "      <td>0</td>\n",
       "      <td>b</td>\n",
       "    </tr>\n",
       "  </tbody>\n",
       "</table>\n",
       "</div>"
      ],
      "text/plain": [
       "   user_id  revenue testgroup\n",
       "0        1        0         b\n",
       "1        2        0         a\n",
       "2        3        0         a\n",
       "3        4        0         b\n",
       "4        5        0         b"
      ]
     },
     "execution_count": 56,
     "metadata": {},
     "output_type": "execute_result"
    }
   ],
   "source": [
    "df.head()"
   ]
  },
  {
   "cell_type": "code",
   "execution_count": 57,
   "id": "64443f0f",
   "metadata": {},
   "outputs": [
    {
     "name": "stdout",
     "output_type": "stream",
     "text": [
      "<class 'pandas.core.frame.DataFrame'>\n",
      "RangeIndex: 404770 entries, 0 to 404769\n",
      "Data columns (total 3 columns):\n",
      " #   Column     Non-Null Count   Dtype \n",
      "---  ------     --------------   ----- \n",
      " 0   user_id    404770 non-null  int64 \n",
      " 1   revenue    404770 non-null  int64 \n",
      " 2   testgroup  404770 non-null  object\n",
      "dtypes: int64(2), object(1)\n",
      "memory usage: 9.3+ MB\n"
     ]
    }
   ],
   "source": [
    "df.info()"
   ]
  },
  {
   "cell_type": "code",
   "execution_count": 58,
   "id": "a3a3a9ea",
   "metadata": {},
   "outputs": [
    {
     "data": {
      "text/plain": [
       "0"
      ]
     },
     "execution_count": 58,
     "metadata": {},
     "output_type": "execute_result"
    }
   ],
   "source": [
    "df.duplicated().sum() # проверяем на дубликаты"
   ]
  },
  {
   "cell_type": "code",
   "execution_count": 59,
   "id": "20b9c9db",
   "metadata": {},
   "outputs": [],
   "source": [
    "# При таких данных целеообразно посмотреть на выручку, ARPPU, ARPU и конверсию."
   ]
  },
  {
   "cell_type": "code",
   "execution_count": 60,
   "id": "24fd1283",
   "metadata": {},
   "outputs": [
    {
     "data": {
      "text/plain": [
       "b    202667\n",
       "a    202103\n",
       "Name: testgroup, dtype: int64"
      ]
     },
     "execution_count": 60,
     "metadata": {},
     "output_type": "execute_result"
    }
   ],
   "source": [
    "df.testgroup.value_counts() # количество пользователей в группах"
   ]
  },
  {
   "cell_type": "code",
   "execution_count": 61,
   "id": "14ae1988",
   "metadata": {},
   "outputs": [],
   "source": [
    "# Посмотрим на распределение revenue в группах"
   ]
  },
  {
   "cell_type": "code",
   "execution_count": 62,
   "id": "85d32e97",
   "metadata": {},
   "outputs": [
    {
     "data": {
      "text/plain": [
       "<AxesSubplot:ylabel='Frequency'>"
      ]
     },
     "execution_count": 62,
     "metadata": {},
     "output_type": "execute_result"
    },
    {
     "data": {
      "image/png": "[encoded data removed]",
      "text/plain": [
       "<Figure size 432x288 with 1 Axes>"
      ]
     },
     "metadata": {
      "needs_background": "light"
     },
     "output_type": "display_data"
    }
   ],
   "source": [
    "df.query(\"testgroup == 'a' & revenue > 0\").revenue.plot.hist()"
   ]
  },
  {
   "cell_type": "code",
   "execution_count": 63,
   "id": "6c95da15",
   "metadata": {},
   "outputs": [
    {
     "data": {
      "text/plain": [
       "<AxesSubplot:ylabel='Frequency'>"
      ]
     },
     "execution_count": 63,
     "metadata": {},
     "output_type": "execute_result"
    },
    {
     "data": {
      "image/png": "[encoded data removed]",
      "text/plain": [
       "<Figure size 432x288 with 1 Axes>"
      ]
     },
     "metadata": {
      "needs_background": "light"
     },
     "output_type": "display_data"
    }
   ],
   "source": [
    "df.query(\"testgroup == 'b' & revenue > 0\").revenue.plot.hist()"
   ]
  },
  {
   "cell_type": "code",
   "execution_count": 64,
   "id": "33c3489d",
   "metadata": {},
   "outputs": [
    {
     "data": {
      "text/plain": [
       "<AxesSubplot:xlabel='revenue', ylabel='testgroup'>"
      ]
     },
     "execution_count": 64,
     "metadata": {},
     "output_type": "execute_result"
    },
    {
     "data": {
      "image/png": "[encoded data removed]",
      "text/plain": [
       "<Figure size 432x288 with 1 Axes>"
      ]
     },
     "metadata": {
      "needs_background": "light"
     },
     "output_type": "display_data"
    }
   ],
   "source": [
    "sns.boxplot(x = 'revenue', y = 'testgroup', data = df.query(\"revenue > 0\"))"
   ]
  },
  {
   "cell_type": "code",
   "execution_count": 65,
   "id": "f2b77f9c",
   "metadata": {},
   "outputs": [],
   "source": [
    "# Проверим выполнение условий на нормальность распределений методом Шапиро-Уилка"
   ]
  },
  {
   "cell_type": "code",
   "execution_count": 66,
   "id": "aebc1d63",
   "metadata": {},
   "outputs": [
    {
     "data": {
      "text/plain": [
       "ShapiroResult(statistic=0.01330113410949707, pvalue=0.0)"
      ]
     },
     "execution_count": 66,
     "metadata": {},
     "output_type": "execute_result"
    }
   ],
   "source": [
    "stats.shapiro(df[df['testgroup'] == 'a'].revenue.sample(1000))"
   ]
  },
  {
   "cell_type": "code",
   "execution_count": 67,
   "id": "05442a94",
   "metadata": {},
   "outputs": [
    {
     "data": {
      "text/plain": [
       "ShapiroResult(statistic=0.0420646071434021, pvalue=0.0)"
      ]
     },
     "execution_count": 67,
     "metadata": {},
     "output_type": "execute_result"
    }
   ],
   "source": [
    "stats.shapiro(df[df['testgroup'] == 'b'].revenue.sample(1000))"
   ]
  },
  {
   "cell_type": "code",
   "execution_count": 68,
   "id": "dfe45316",
   "metadata": {},
   "outputs": [],
   "source": [
    "# Результаты теста показывают, что распределения ненормальны.\n",
    "# проведем тест на гомогенность дисперсий, чтобы понять, сможем ли использовать t-test при дальнейшей оценке результатов\n"
   ]
  },
  {
   "cell_type": "code",
   "execution_count": 69,
   "id": "ec0df8c6",
   "metadata": {},
   "outputs": [
    {
     "data": {
      "text/plain": [
       "LeveneResult(statistic=0.3896289474701388, pvalue=0.5324948591043842)"
      ]
     },
     "execution_count": 69,
     "metadata": {},
     "output_type": "execute_result"
    }
   ],
   "source": [
    "stats.levene(df[df['testgroup'] == 'a'].revenue, df[df['testgroup'] == 'b'].revenue)"
   ]
  },
  {
   "cell_type": "code",
   "execution_count": 70,
   "id": "838db85f",
   "metadata": {},
   "outputs": [],
   "source": [
    "# Согласно результатам теста мы не можем отклонить нулевую гипотезу, требование гомогенности дисперсий соблюдается,\n",
    "# следовательно мы можем использовать t-test"
   ]
  },
  {
   "cell_type": "code",
   "execution_count": 71,
   "id": "c955d39b",
   "metadata": {},
   "outputs": [],
   "source": [
    "# Посчитаем максимальный чек, ARPPU и ARPU"
   ]
  },
  {
   "cell_type": "code",
   "execution_count": 72,
   "id": "2a7c67f8",
   "metadata": {},
   "outputs": [
    {
     "data": {
      "text/plain": [
       "5136189"
      ]
     },
     "execution_count": 72,
     "metadata": {},
     "output_type": "execute_result"
    }
   ],
   "source": [
    "df[df['testgroup'] == 'a'].revenue.sum() #общая сумма выручки в группе \"а\""
   ]
  },
  {
   "cell_type": "code",
   "execution_count": 73,
   "id": "3b9858db",
   "metadata": {},
   "outputs": [
    {
     "data": {
      "text/plain": [
       "5421603"
      ]
     },
     "execution_count": 73,
     "metadata": {},
     "output_type": "execute_result"
    }
   ],
   "source": [
    "df[df['testgroup'] == 'b'].revenue.sum() #общая сумма выручки в группе \"b\""
   ]
  },
  {
   "cell_type": "code",
   "execution_count": 74,
   "id": "968d3642",
   "metadata": {},
   "outputs": [],
   "source": [
    "#максимальные чеки"
   ]
  },
  {
   "cell_type": "code",
   "execution_count": 75,
   "id": "abc57050",
   "metadata": {},
   "outputs": [
    {
     "data": {
      "text/plain": [
       "37433"
      ]
     },
     "execution_count": 75,
     "metadata": {},
     "output_type": "execute_result"
    }
   ],
   "source": [
    "df.query(\"testgroup == 'a' & revenue > 0\").revenue.max() #максимальный чек группы \"а\""
   ]
  },
  {
   "cell_type": "code",
   "execution_count": 76,
   "id": "ebe8eba3",
   "metadata": {},
   "outputs": [
    {
     "data": {
      "text/plain": [
       "400"
      ]
     },
     "execution_count": 76,
     "metadata": {},
     "output_type": "execute_result"
    }
   ],
   "source": [
    "df.query(\"testgroup == 'a' & revenue > 0 & revenue < 37200\").revenue.max() #Максимальный чек группы \"а\", исключая выбросы"
   ]
  },
  {
   "cell_type": "code",
   "execution_count": 77,
   "id": "ebfe09d6",
   "metadata": {},
   "outputs": [
    {
     "data": {
      "text/plain": [
       "4000"
      ]
     },
     "execution_count": 77,
     "metadata": {},
     "output_type": "execute_result"
    }
   ],
   "source": [
    "df.query(\"testgroup == 'b' & revenue > 0\").revenue.max() #максимальный чек группы \"b\""
   ]
  },
  {
   "cell_type": "code",
   "execution_count": 78,
   "id": "d38680ca",
   "metadata": {},
   "outputs": [],
   "source": [
    "#ARPPU"
   ]
  },
  {
   "cell_type": "code",
   "execution_count": 79,
   "id": "a70bece8",
   "metadata": {},
   "outputs": [
    {
     "data": {
      "text/plain": [
       "2663.9984439834025"
      ]
     },
     "execution_count": 79,
     "metadata": {},
     "output_type": "execute_result"
    }
   ],
   "source": [
    "df.query(\"testgroup == 'a' & revenue > 0\").revenue.mean() #ARPPU для группы \"а\""
   ]
  },
  {
   "cell_type": "code",
   "execution_count": 80,
   "id": "68c12338",
   "metadata": {},
   "outputs": [
    {
     "data": {
      "text/plain": [
       "302.45817174515236"
      ]
     },
     "execution_count": 80,
     "metadata": {},
     "output_type": "execute_result"
    }
   ],
   "source": [
    "df.query(\"testgroup == 'a' & revenue > 0 & revenue < 37200\").revenue.mean() #ARPPU для группы \"а\" без аномально крупных чеков"
   ]
  },
  {
   "cell_type": "code",
   "execution_count": 81,
   "id": "b1f33857",
   "metadata": {},
   "outputs": [
    {
     "data": {
      "text/plain": [
       "3003.6581717451522"
      ]
     },
     "execution_count": 81,
     "metadata": {},
     "output_type": "execute_result"
    }
   ],
   "source": [
    "df.query(\"testgroup == 'b' & revenue > 0\").revenue.mean() #ARPPU для группы \"b\""
   ]
  },
  {
   "cell_type": "code",
   "execution_count": 82,
   "id": "2479d61a",
   "metadata": {},
   "outputs": [
    {
     "data": {
      "text/plain": [
       "Ttest_indResult(statistic=1.5917100176862002, pvalue=0.11153459157259504)"
      ]
     },
     "execution_count": 82,
     "metadata": {},
     "output_type": "execute_result"
    }
   ],
   "source": [
    "stats.ttest_ind(df.query(\"testgroup == 'b' & revenue > 0\").revenue, df.query(\"testgroup == 'a' & revenue > 0\").revenue)"
   ]
  },
  {
   "cell_type": "code",
   "execution_count": 83,
   "id": "250ee117",
   "metadata": {},
   "outputs": [
    {
     "data": {
      "text/plain": [
       "Ttest_indResult(statistic=199.39722533995328, pvalue=0.0)"
      ]
     },
     "execution_count": 83,
     "metadata": {},
     "output_type": "execute_result"
    }
   ],
   "source": [
    "stats.ttest_ind(df.query(\"testgroup == 'b' & revenue > 0\").revenue, df.query(\"testgroup == 'a' & revenue > 0 & revenue < 37200\").revenue)"
   ]
  },
  {
   "cell_type": "code",
   "execution_count": 84,
   "id": "ecf26c91",
   "metadata": {},
   "outputs": [],
   "source": [
    "# В случае проведения теста, не исключающего крупные чеки из группы \"a\", p-value > 0.05, не фиксируем статзначимые различия\n",
    "# В обратном случае p-value < 0.05, различия наблюдаются"
   ]
  },
  {
   "cell_type": "code",
   "execution_count": null,
   "id": "cd8dd203",
   "metadata": {},
   "outputs": [],
   "source": []
  },
  {
   "cell_type": "code",
   "execution_count": 85,
   "id": "030e5ef5",
   "metadata": {},
   "outputs": [],
   "source": [
    "#ARPU"
   ]
  },
  {
   "cell_type": "code",
   "execution_count": 86,
   "id": "bede846c",
   "metadata": {},
   "outputs": [
    {
     "data": {
      "text/html": [
       "<div>\n",
       "<style scoped>\n",
       "    .dataframe tbody tr th:only-of-type {\n",
       "        vertical-align: middle;\n",
       "    }\n",
       "\n",
       "    .dataframe tbody tr th {\n",
       "        vertical-align: top;\n",
       "    }\n",
       "\n",
       "    .dataframe thead th {\n",
       "        text-align: right;\n",
       "    }\n",
       "</style>\n",
       "<table border=\"1\" class=\"dataframe\">\n",
       "  <thead>\n",
       "    <tr style=\"text-align: right;\">\n",
       "      <th></th>\n",
       "      <th>testgroup</th>\n",
       "      <th>revenue</th>\n",
       "    </tr>\n",
       "  </thead>\n",
       "  <tbody>\n",
       "    <tr>\n",
       "      <th>0</th>\n",
       "      <td>a</td>\n",
       "      <td>25.413720</td>\n",
       "    </tr>\n",
       "    <tr>\n",
       "      <th>1</th>\n",
       "      <td>b</td>\n",
       "      <td>26.751287</td>\n",
       "    </tr>\n",
       "  </tbody>\n",
       "</table>\n",
       "</div>"
      ],
      "text/plain": [
       "  testgroup    revenue\n",
       "0         a  25.413720\n",
       "1         b  26.751287"
      ]
     },
     "execution_count": 86,
     "metadata": {},
     "output_type": "execute_result"
    }
   ],
   "source": [
    "df.groupby('testgroup', as_index = False).agg({'revenue':'mean'}) #ARPU"
   ]
  },
  {
   "cell_type": "code",
   "execution_count": 87,
   "id": "5142998d",
   "metadata": {},
   "outputs": [
    {
     "data": {
      "text/plain": [
       "Ttest_indResult(statistic=-0.6242026493616787, pvalue=0.532494858971837)"
      ]
     },
     "execution_count": 87,
     "metadata": {},
     "output_type": "execute_result"
    }
   ],
   "source": [
    "stats.ttest_ind(df[df['testgroup'] == 'a'].revenue, df[df['testgroup'] == 'b'].revenue)"
   ]
  },
  {
   "cell_type": "code",
   "execution_count": 88,
   "id": "46a2371a",
   "metadata": {},
   "outputs": [],
   "source": [
    "# p-value > 0.05 Не отклоняем нулевую гипотезу, не наблюдаем статзначимых различий"
   ]
  },
  {
   "cell_type": "code",
   "execution_count": null,
   "id": "ee77ee02",
   "metadata": {},
   "outputs": [],
   "source": []
  },
  {
   "cell_type": "code",
   "execution_count": 89,
   "id": "e0665f8b",
   "metadata": {},
   "outputs": [],
   "source": [
    "#считаем конверсию"
   ]
  },
  {
   "cell_type": "code",
   "execution_count": 90,
   "id": "2283b7cb",
   "metadata": {},
   "outputs": [
    {
     "data": {
      "text/plain": [
       "0.9539690157988748"
      ]
     },
     "execution_count": 90,
     "metadata": {},
     "output_type": "execute_result"
    }
   ],
   "source": [
    "df.query(\"testgroup == 'a' & revenue > 0\").user_id.count()/df[df.testgroup == 'a'].user_id.count()*100 #конверсия в группе \"а\""
   ]
  },
  {
   "cell_type": "code",
   "execution_count": 91,
   "id": "ab024151",
   "metadata": {},
   "outputs": [
    {
     "data": {
      "text/plain": [
       "0.8931089592930338"
      ]
     },
     "execution_count": 91,
     "metadata": {},
     "output_type": "execute_result"
    }
   ],
   "source": [
    "df.query(\"testgroup == 'a' & revenue > 0 & revenue<37000\").user_id.count()/df[df.testgroup == 'a'].user_id.count()*100\n",
    "# конверсия в группе \"а\" без крупных чеков"
   ]
  },
  {
   "cell_type": "code",
   "execution_count": 92,
   "id": "ac1403fe",
   "metadata": {},
   "outputs": [
    {
     "data": {
      "text/plain": [
       "0.8906235351586593"
      ]
     },
     "execution_count": 92,
     "metadata": {},
     "output_type": "execute_result"
    }
   ],
   "source": [
    "df.query(\"testgroup == 'b' & revenue > 0\").user_id.count()/df[df.testgroup == 'b'].user_id.count()*100 #конверсия в группе \"b\""
   ]
  },
  {
   "cell_type": "code",
   "execution_count": 93,
   "id": "cc7ba5de",
   "metadata": {},
   "outputs": [],
   "source": [
    "# Для проведения теста хи-квадрат создадим новую колонку purchase"
   ]
  },
  {
   "cell_type": "code",
   "execution_count": 94,
   "id": "cb3746c6",
   "metadata": {},
   "outputs": [],
   "source": [
    "purchase = []\n",
    "for i in df.revenue:\n",
    "    if i == 0:\n",
    "        x = 'no'\n",
    "    else:\n",
    "        x = 'yes'\n",
    "    purchase.append(x)\n",
    "df['purchase'] = purchase    "
   ]
  },
  {
   "cell_type": "code",
   "execution_count": 95,
   "id": "0115195b",
   "metadata": {},
   "outputs": [
    {
     "data": {
      "text/html": [
       "<div>\n",
       "<style scoped>\n",
       "    .dataframe tbody tr th:only-of-type {\n",
       "        vertical-align: middle;\n",
       "    }\n",
       "\n",
       "    .dataframe tbody tr th {\n",
       "        vertical-align: top;\n",
       "    }\n",
       "\n",
       "    .dataframe thead th {\n",
       "        text-align: right;\n",
       "    }\n",
       "</style>\n",
       "<table border=\"1\" class=\"dataframe\">\n",
       "  <thead>\n",
       "    <tr style=\"text-align: right;\">\n",
       "      <th></th>\n",
       "      <th>purchase</th>\n",
       "      <th>testgroup</th>\n",
       "      <th>user_id</th>\n",
       "    </tr>\n",
       "  </thead>\n",
       "  <tbody>\n",
       "    <tr>\n",
       "      <th>0</th>\n",
       "      <td>no</td>\n",
       "      <td>a</td>\n",
       "      <td>200175</td>\n",
       "    </tr>\n",
       "    <tr>\n",
       "      <th>1</th>\n",
       "      <td>no</td>\n",
       "      <td>b</td>\n",
       "      <td>200862</td>\n",
       "    </tr>\n",
       "    <tr>\n",
       "      <th>2</th>\n",
       "      <td>yes</td>\n",
       "      <td>a</td>\n",
       "      <td>1928</td>\n",
       "    </tr>\n",
       "    <tr>\n",
       "      <th>3</th>\n",
       "      <td>yes</td>\n",
       "      <td>b</td>\n",
       "      <td>1805</td>\n",
       "    </tr>\n",
       "  </tbody>\n",
       "</table>\n",
       "</div>"
      ],
      "text/plain": [
       "  purchase testgroup  user_id\n",
       "0       no         a   200175\n",
       "1       no         b   200862\n",
       "2      yes         a     1928\n",
       "3      yes         b     1805"
      ]
     },
     "execution_count": 95,
     "metadata": {},
     "output_type": "execute_result"
    }
   ],
   "source": [
    "df.groupby(['purchase', 'testgroup'], as_index=False).agg({'user_id': 'nunique'})"
   ]
  },
  {
   "cell_type": "code",
   "execution_count": 96,
   "id": "580fc46c",
   "metadata": {},
   "outputs": [
    {
     "data": {
      "text/html": [
       "<div>\n",
       "<style scoped>\n",
       "    .dataframe tbody tr th:only-of-type {\n",
       "        vertical-align: middle;\n",
       "    }\n",
       "\n",
       "    .dataframe tbody tr th {\n",
       "        vertical-align: top;\n",
       "    }\n",
       "\n",
       "    .dataframe thead th {\n",
       "        text-align: right;\n",
       "    }\n",
       "</style>\n",
       "<table border=\"1\" class=\"dataframe\">\n",
       "  <thead>\n",
       "    <tr style=\"text-align: right;\">\n",
       "      <th>purchase</th>\n",
       "      <th>no</th>\n",
       "      <th>yes</th>\n",
       "    </tr>\n",
       "    <tr>\n",
       "      <th>testgroup</th>\n",
       "      <th></th>\n",
       "      <th></th>\n",
       "    </tr>\n",
       "  </thead>\n",
       "  <tbody>\n",
       "    <tr>\n",
       "      <th>a</th>\n",
       "      <td>200175</td>\n",
       "      <td>1928</td>\n",
       "    </tr>\n",
       "    <tr>\n",
       "      <th>b</th>\n",
       "      <td>200862</td>\n",
       "      <td>1805</td>\n",
       "    </tr>\n",
       "  </tbody>\n",
       "</table>\n",
       "</div>"
      ],
      "text/plain": [
       "purchase       no   yes\n",
       "testgroup              \n",
       "a          200175  1928\n",
       "b          200862  1805"
      ]
     },
     "execution_count": 96,
     "metadata": {},
     "output_type": "execute_result"
    }
   ],
   "source": [
    "pd.crosstab(df['testgroup'], df['purchase'])"
   ]
  },
  {
   "cell_type": "code",
   "execution_count": 97,
   "id": "2034ce65",
   "metadata": {},
   "outputs": [
    {
     "data": {
      "text/plain": [
       "(4.374729521260405,\n",
       " 0.03647561892312613,\n",
       " 1,\n",
       " array([[200239.10075104,   1863.89924896],\n",
       "        [200797.89924896,   1869.10075104]]))"
      ]
     },
     "execution_count": 97,
     "metadata": {},
     "output_type": "execute_result"
    }
   ],
   "source": [
    "stats.chi2_contingency(pd.crosstab(df['testgroup'], df['purchase']))"
   ]
  },
  {
   "cell_type": "code",
   "execution_count": 98,
   "id": "e71ec577",
   "metadata": {},
   "outputs": [],
   "source": [
    "# p-value < 0.05, имеются статзначимые различия в конверсиях групп"
   ]
  },
  {
   "cell_type": "markdown",
   "id": "700b6a2a",
   "metadata": {},
   "source": []
  },
  {
   "cell_type": "markdown",
   "id": "88c21c1a",
   "metadata": {},
   "source": [
    "Проанализировав результаты A/B теста, можно сказать следующее:\n",
    "в группах очень разный масштаб покупок, в \"а\" совершено много покупок в малом ценовом диапазоне до 400 рублей, но присутствуют заказы по 37000.\n",
    "В группе \"b\" в свою очередь покупки стабильно высокие.\n",
    "В целом, все метрики, кроме конверсии выше в группе \"b\" (выручка, ARPU, ARPPU). \n",
    "Статзначимые различия наблюдаем в случае конверсии. \n",
    "Рекомендовал бы выбрать набор \"b\", поскольку пользователи стабильно покупали акционные наборы по достаточно высокой цене.\n",
    "Стоит сказать, что нам не дана цель исследования: если она состояла в том, чтобы продать некие наборы по очень высокой цене, то группа \"а\" с ней справилась."
   ]
  },
  {
   "cell_type": "markdown",
   "id": "99011857",
   "metadata": {},
   "source": []
  },
  {
   "cell_type": "markdown",
   "id": "763ef7c8",
   "metadata": {},
   "source": []
  }
 ],
 "metadata": {
  "kernelspec": {
   "display_name": "Python 3 (ipykernel)",
   "language": "python",
   "name": "python3"
  },
  "language_info": {
   "codemirror_mode": {
    "name": "ipython",
    "version": 3
   },
   "file_extension": ".py",
   "mimetype": "text/x-python",
   "name": "python",
   "nbconvert_exporter": "python",
   "pygments_lexer": "ipython3",
   "version": "3.9.7"
  }
 },
 "nbformat": 4,
 "nbformat_minor": 5
}
